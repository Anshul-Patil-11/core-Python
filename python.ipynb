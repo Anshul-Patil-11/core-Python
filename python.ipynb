{
 "cells": [
  {
   "cell_type": "code",
   "execution_count": 5,
   "id": "f53fbbd9",
   "metadata": {},
   "outputs": [
    {
     "name": "stdout",
     "output_type": "stream",
     "text": [
      "<class 'bool'>\n"
     ]
    }
   ],
   "source": [
    "print(type(True))"
   ]
  },
  {
   "cell_type": "code",
   "execution_count": null,
   "id": "c4641eb3",
   "metadata": {},
   "outputs": [
    {
     "name": "stdout",
     "output_type": "stream",
     "text": [
      "<class 'float'>\n",
      "<class 'int'>\n"
     ]
    }
   ],
   "source": [
    "# typecasting\n",
    "\n",
    "gpa=3.2\n",
    "\n",
    "print(type(gpa))\n",
    "\n",
    "print(type(float(gpa)))"
   ]
  },
  {
   "cell_type": "code",
   "execution_count": null,
   "id": "334eef16",
   "metadata": {},
   "outputs": [
    {
     "name": "stdout",
     "output_type": "stream",
     "text": [
      "hello anshul, you are 23 years old\n"
     ]
    }
   ],
   "source": [
    "# input\n",
    "\n",
    "name=input(\"What is your name?: \")\n",
    "age=int(input('How old are you?'))\n",
    "print(f'hello {name}, you are {age} years old')"
   ]
  },
  {
   "cell_type": "code",
   "execution_count": 16,
   "id": "19dd2712",
   "metadata": {},
   "outputs": [
    {
     "name": "stdout",
     "output_type": "stream",
     "text": [
      "Area of Rectangle is 15.75 units squared\n"
     ]
    }
   ],
   "source": [
    "# Calc Area of Rectangle\n",
    "\n",
    "def areaOfRectangle(length,breadth):\n",
    "    return (length*breadth)\n",
    "\n",
    "l = float(input(\"Enter the length of Rectangle\"))\n",
    "b = float(input(\"Enter the breadth of Rectangle\"))\n",
    "\n",
    "print(f'Area of Rectangle is {areaOfRectangle(l,b)} units squared')"
   ]
  },
  {
   "cell_type": "code",
   "execution_count": 17,
   "id": "d5a03a4a",
   "metadata": {},
   "outputs": [
    {
     "name": "stdout",
     "output_type": "stream",
     "text": [
      "Today I went to a large zoo.\n",
      "I saw an Parrot\n",
      "Parrot was Ferocious and Worrying.\n",
      "I was thrilled!\n"
     ]
    }
   ],
   "source": [
    "\"\"\" Madlibs game\n",
    "word game where you create a story \n",
    "by filling in blanks with random words\n",
    "\"\"\"\n",
    "\n",
    "adjective1 = input('Enter an adjective')\n",
    "noun1 = input('Enter a noun')\n",
    "adjective2 = input('Enter another adjective')\n",
    "verb1 = input('Enter a verb ending with \\'ing\\'')\n",
    "adjective3 = input('Enter another adjective')\n",
    "\n",
    "print(f'Today I went to a {adjective1} zoo.')\n",
    "print(f'I saw an {noun1}')\n",
    "print(f'{noun1} was {adjective2} and {verb1}.')\n",
    "print(f'I was {adjective3}!')"
   ]
  },
  {
   "cell_type": "code",
   "execution_count": null,
   "id": "bd221be6",
   "metadata": {},
   "outputs": [
    {
     "name": "stdout",
     "output_type": "stream",
     "text": [
      "3.141592653589793\n",
      "2.718281828459045\n",
      "3.0166206257996713\n",
      "10\n",
      "9\n"
     ]
    }
   ],
   "source": [
    "import math\n",
    "\n",
    "x=9.1\n",
    "\n",
    "print(math.pi)\n",
    "print(math.e)\n",
    "print(math.sqrt(x))\n",
    "print(math.ceil(x)) \n",
    "print(math.floor(x))"
   ]
  },
  {
   "cell_type": "code",
   "execution_count": null,
   "id": "d9835791",
   "metadata": {},
   "outputs": [
    {
     "name": "stdout",
     "output_type": "stream",
     "text": [
      "The exception can't multiply sequence by non-int of type 'str' surfaced!\n",
      "The Result is None\n"
     ]
    }
   ],
   "source": [
    " Calculator\n",
    "\n",
    "num1 = (input('Enter first operand'))\n",
    "num2 = (input('Enter second operand'))\n",
    "\n",
    "op = int(input('Choose the operation:\\n1) Addition\\n2) Subtraction\\n3) Multiplication\\n4) Division'))\n",
    "result=None\n",
    "try:\n",
    "    if op==1:\n",
    "        result = num1+num2\n",
    "    elif op==2:\n",
    "        result = num1-num2\n",
    "    elif op==3:\n",
    "        result = num1*num2\n",
    "    elif op==4:\n",
    "        result = num1/num2\n",
    "    else:\n",
    "        print(\"Enter a valid operation from Menu!\")\n",
    "except Exception as e:\n",
    "    print(f'The exception {e} surfaced!')\n",
    "\n",
    "\n",
    "print(f'The Result is {result}')"
   ]
  },
  {
   "cell_type": "code",
   "execution_count": 29,
   "id": "26145975",
   "metadata": {},
   "outputs": [
    {
     "name": "stdout",
     "output_type": "stream",
     "text": [
      "even\n"
     ]
    }
   ],
   "source": [
    " odd or even\n",
    "\n",
    "num = 52\n",
    "\n",
    "print(\"odd\" if num%2==1 else \"even\")  ternary operator"
   ]
  },
  {
   "cell_type": "code",
   "execution_count": null,
   "id": "90dbe91a",
   "metadata": {},
   "outputs": [
    {
     "name": "stdout",
     "output_type": "stream",
     "text": [
      "anshul\n",
      "Does not contain only Digits\n",
      "Contains Only Alphanumeric\n"
     ]
    }
   ],
   "source": [
    "name = input(\"Enter your name!\")\n",
    "\n",
    "str1 = \"Lola\"\n",
    "str2 = \"Amrikano\"\n",
    "\n",
    " result = len(name)\n",
    " result=name.strip(\" \")\n",
    " result = name.split()\n",
    " joined = \" \".join(result)\n",
    " join2 = \" \".join([str1, str2])   join expects an iterable, so use a list\n",
    "\n",
    " has O(n)\n",
    "result = name.find(\"a\") # first occurence\n",
    "result = name.rfind(\"a\") # last occurence\n",
    "\n",
    "# capitalise string (first name only)\n",
    "capitalised = name.capitalize()\n",
    "capitalised = name.upper() # lower also\n",
    "capitalised = name.casefold() # more rigorous than lower, german B is translated to ss.\n",
    "# capitalised = name.title()\n",
    "print(capitalised)\n",
    "\n",
    "print(\"Contains Only Digits\" if name.isdigit() else \"Does not contain only Digits\")\n",
    "\n",
    "print(\"Contains Only Alphanumeric\" if name.isalnum() else \"Does not Contain Only Alphanumeric\")\n",
    "\n",
    "# print(result)\n",
    "# print(joined)\n",
    "# print(join2)\n"
   ]
  },
  {
   "cell_type": "code",
   "execution_count": 45,
   "id": "0dd60825",
   "metadata": {},
   "outputs": [
    {
     "name": "stdout",
     "output_type": "stream",
     "text": [
      "2\n",
      "+353 89 2128452\n",
      "353892128452\n"
     ]
    }
   ],
   "source": [
    "phone_number = input(\"Enter your phone number\")\n",
    "\n",
    "# print(\"Number is irish\" if phone_number.startswith(\"+353\") else \"Number is not irish\")\n",
    "\n",
    "# count dashes in No\n",
    "DashesNo=phone_number.count('-')\n",
    "print(DashesNo)\n",
    "\n",
    "spacedNo=phone_number.replace('-',' ')\n",
    "print(spacedNo)\n",
    "\n",
    "onlyDigits = \"\".join(c for c in phone_number if c.isdigit())\n",
    "print(onlyDigits)"
   ]
  },
  {
   "cell_type": "code",
   "execution_count": 46,
   "id": "4289b391",
   "metadata": {},
   "outputs": [
    {
     "name": "stdout",
     "output_type": "stream",
     "text": [
      "Help on class str in module builtins:\n",
      "\n",
      "class str(object)\n",
      " |  str(object='') -> str\n",
      " |  str(bytes_or_buffer[, encoding[, errors]]) -> str\n",
      " |\n",
      " |  Create a new string object from the given object. If encoding or\n",
      " |  errors is specified, then the object must expose a data buffer\n",
      " |  that will be decoded using the given encoding and error handler.\n",
      " |  Otherwise, returns the result of object.__str__() (if defined)\n",
      " |  or repr(object).\n",
      " |  encoding defaults to sys.getdefaultencoding().\n",
      " |  errors defaults to 'strict'.\n",
      " |\n",
      " |  Methods defined here:\n",
      " |\n",
      " |  __add__(self, value, /)\n",
      " |      Return self+value.\n",
      " |\n",
      " |  __contains__(self, key, /)\n",
      " |      Return bool(key in self).\n",
      " |\n",
      " |  __eq__(self, value, /)\n",
      " |      Return self==value.\n",
      " |\n",
      " |  __format__(self, format_spec, /)\n",
      " |      Return a formatted version of the string as described by format_spec.\n",
      " |\n",
      " |  __ge__(self, value, /)\n",
      " |      Return self>=value.\n",
      " |\n",
      " |  __getattribute__(self, name, /)\n",
      " |      Return getattr(self, name).\n",
      " |\n",
      " |  __getitem__(self, key, /)\n",
      " |      Return self[key].\n",
      " |\n",
      " |  __getnewargs__(...)\n",
      " |\n",
      " |  __gt__(self, value, /)\n",
      " |      Return self>value.\n",
      " |\n",
      " |  __hash__(self, /)\n",
      " |      Return hash(self).\n",
      " |\n",
      " |  __iter__(self, /)\n",
      " |      Implement iter(self).\n",
      " |\n",
      " |  __le__(self, value, /)\n",
      " |      Return self<=value.\n",
      " |\n",
      " |  __len__(self, /)\n",
      " |      Return len(self).\n",
      " |\n",
      " |  __lt__(self, value, /)\n",
      " |      Return self<value.\n",
      " |\n",
      " |  __mod__(self, value, /)\n",
      " |      Return self%value.\n",
      " |\n",
      " |  __mul__(self, value, /)\n",
      " |      Return self*value.\n",
      " |\n",
      " |  __ne__(self, value, /)\n",
      " |      Return self!=value.\n",
      " |\n",
      " |  __repr__(self, /)\n",
      " |      Return repr(self).\n",
      " |\n",
      " |  __rmod__(self, value, /)\n",
      " |      Return value%self.\n",
      " |\n",
      " |  __rmul__(self, value, /)\n",
      " |      Return value*self.\n",
      " |\n",
      " |  __sizeof__(self, /)\n",
      " |      Return the size of the string in memory, in bytes.\n",
      " |\n",
      " |  __str__(self, /)\n",
      " |      Return str(self).\n",
      " |\n",
      " |  capitalize(self, /)\n",
      " |      Return a capitalized version of the string.\n",
      " |\n",
      " |      More specifically, make the first character have upper case and the rest lower\n",
      " |      case.\n",
      " |\n",
      " |  casefold(self, /)\n",
      " |      Return a version of the string suitable for caseless comparisons.\n",
      " |\n",
      " |  center(self, width, fillchar=' ', /)\n",
      " |      Return a centered string of length width.\n",
      " |\n",
      " |      Padding is done using the specified fill character (default is a space).\n",
      " |\n",
      " |  count(...)\n",
      " |      S.count(sub[, start[, end]]) -> int\n",
      " |\n",
      " |      Return the number of non-overlapping occurrences of substring sub in\n",
      " |      string S[start:end].  Optional arguments start and end are\n",
      " |      interpreted as in slice notation.\n",
      " |\n",
      " |  encode(self, /, encoding='utf-8', errors='strict')\n",
      " |      Encode the string using the codec registered for encoding.\n",
      " |\n",
      " |      encoding\n",
      " |        The encoding in which to encode the string.\n",
      " |      errors\n",
      " |        The error handling scheme to use for encoding errors.\n",
      " |        The default is 'strict' meaning that encoding errors raise a\n",
      " |        UnicodeEncodeError.  Other possible values are 'ignore', 'replace' and\n",
      " |        'xmlcharrefreplace' as well as any other name registered with\n",
      " |        codecs.register_error that can handle UnicodeEncodeErrors.\n",
      " |\n",
      " |  endswith(...)\n",
      " |      S.endswith(suffix[, start[, end]]) -> bool\n",
      " |\n",
      " |      Return True if S ends with the specified suffix, False otherwise.\n",
      " |      With optional start, test S beginning at that position.\n",
      " |      With optional end, stop comparing S at that position.\n",
      " |      suffix can also be a tuple of strings to try.\n",
      " |\n",
      " |  expandtabs(self, /, tabsize=8)\n",
      " |      Return a copy where all tab characters are expanded using spaces.\n",
      " |\n",
      " |      If tabsize is not given, a tab size of 8 characters is assumed.\n",
      " |\n",
      " |  find(...)\n",
      " |      S.find(sub[, start[, end]]) -> int\n",
      " |\n",
      " |      Return the lowest index in S where substring sub is found,\n",
      " |      such that sub is contained within S[start:end].  Optional\n",
      " |      arguments start and end are interpreted as in slice notation.\n",
      " |\n",
      " |      Return -1 on failure.\n",
      " |\n",
      " |  format(...)\n",
      " |      S.format(*args, **kwargs) -> str\n",
      " |\n",
      " |      Return a formatted version of S, using substitutions from args and kwargs.\n",
      " |      The substitutions are identified by braces ('{' and '}').\n",
      " |\n",
      " |  format_map(...)\n",
      " |      S.format_map(mapping) -> str\n",
      " |\n",
      " |      Return a formatted version of S, using substitutions from mapping.\n",
      " |      The substitutions are identified by braces ('{' and '}').\n",
      " |\n",
      " |  index(...)\n",
      " |      S.index(sub[, start[, end]]) -> int\n",
      " |\n",
      " |      Return the lowest index in S where substring sub is found,\n",
      " |      such that sub is contained within S[start:end].  Optional\n",
      " |      arguments start and end are interpreted as in slice notation.\n",
      " |\n",
      " |      Raises ValueError when the substring is not found.\n",
      " |\n",
      " |  isalnum(self, /)\n",
      " |      Return True if the string is an alpha-numeric string, False otherwise.\n",
      " |\n",
      " |      A string is alpha-numeric if all characters in the string are alpha-numeric and\n",
      " |      there is at least one character in the string.\n",
      " |\n",
      " |  isalpha(self, /)\n",
      " |      Return True if the string is an alphabetic string, False otherwise.\n",
      " |\n",
      " |      A string is alphabetic if all characters in the string are alphabetic and there\n",
      " |      is at least one character in the string.\n",
      " |\n",
      " |  isascii(self, /)\n",
      " |      Return True if all characters in the string are ASCII, False otherwise.\n",
      " |\n",
      " |      ASCII characters have code points in the range U+0000-U+007F.\n",
      " |      Empty string is ASCII too.\n",
      " |\n",
      " |  isdecimal(self, /)\n",
      " |      Return True if the string is a decimal string, False otherwise.\n",
      " |\n",
      " |      A string is a decimal string if all characters in the string are decimal and\n",
      " |      there is at least one character in the string.\n",
      " |\n",
      " |  isdigit(self, /)\n",
      " |      Return True if the string is a digit string, False otherwise.\n",
      " |\n",
      " |      A string is a digit string if all characters in the string are digits and there\n",
      " |      is at least one character in the string.\n",
      " |\n",
      " |  isidentifier(self, /)\n",
      " |      Return True if the string is a valid Python identifier, False otherwise.\n",
      " |\n",
      " |      Call keyword.iskeyword(s) to test whether string s is a reserved identifier,\n",
      " |      such as \"def\" or \"class\".\n",
      " |\n",
      " |  islower(self, /)\n",
      " |      Return True if the string is a lowercase string, False otherwise.\n",
      " |\n",
      " |      A string is lowercase if all cased characters in the string are lowercase and\n",
      " |      there is at least one cased character in the string.\n",
      " |\n",
      " |  isnumeric(self, /)\n",
      " |      Return True if the string is a numeric string, False otherwise.\n",
      " |\n",
      " |      A string is numeric if all characters in the string are numeric and there is at\n",
      " |      least one character in the string.\n",
      " |\n",
      " |  isprintable(self, /)\n",
      " |      Return True if the string is printable, False otherwise.\n",
      " |\n",
      " |      A string is printable if all of its characters are considered printable in\n",
      " |      repr() or if it is empty.\n",
      " |\n",
      " |  isspace(self, /)\n",
      " |      Return True if the string is a whitespace string, False otherwise.\n",
      " |\n",
      " |      A string is whitespace if all characters in the string are whitespace and there\n",
      " |      is at least one character in the string.\n",
      " |\n",
      " |  istitle(self, /)\n",
      " |      Return True if the string is a title-cased string, False otherwise.\n",
      " |\n",
      " |      In a title-cased string, upper- and title-case characters may only\n",
      " |      follow uncased characters and lowercase characters only cased ones.\n",
      " |\n",
      " |  isupper(self, /)\n",
      " |      Return True if the string is an uppercase string, False otherwise.\n",
      " |\n",
      " |      A string is uppercase if all cased characters in the string are uppercase and\n",
      " |      there is at least one cased character in the string.\n",
      " |\n",
      " |  join(self, iterable, /)\n",
      " |      Concatenate any number of strings.\n",
      " |\n",
      " |      The string whose method is called is inserted in between each given string.\n",
      " |      The result is returned as a new string.\n",
      " |\n",
      " |      Example: '.'.join(['ab', 'pq', 'rs']) -> 'ab.pq.rs'\n",
      " |\n",
      " |  ljust(self, width, fillchar=' ', /)\n",
      " |      Return a left-justified string of length width.\n",
      " |\n",
      " |      Padding is done using the specified fill character (default is a space).\n",
      " |\n",
      " |  lower(self, /)\n",
      " |      Return a copy of the string converted to lowercase.\n",
      " |\n",
      " |  lstrip(self, chars=None, /)\n",
      " |      Return a copy of the string with leading whitespace removed.\n",
      " |\n",
      " |      If chars is given and not None, remove characters in chars instead.\n",
      " |\n",
      " |  partition(self, sep, /)\n",
      " |      Partition the string into three parts using the given separator.\n",
      " |\n",
      " |      This will search for the separator in the string.  If the separator is found,\n",
      " |      returns a 3-tuple containing the part before the separator, the separator\n",
      " |      itself, and the part after it.\n",
      " |\n",
      " |      If the separator is not found, returns a 3-tuple containing the original string\n",
      " |      and two empty strings.\n",
      " |\n",
      " |  removeprefix(self, prefix, /)\n",
      " |      Return a str with the given prefix string removed if present.\n",
      " |\n",
      " |      If the string starts with the prefix string, return string[len(prefix):].\n",
      " |      Otherwise, return a copy of the original string.\n",
      " |\n",
      " |  removesuffix(self, suffix, /)\n",
      " |      Return a str with the given suffix string removed if present.\n",
      " |\n",
      " |      If the string ends with the suffix string and that suffix is not empty,\n",
      " |      return string[:-len(suffix)]. Otherwise, return a copy of the original\n",
      " |      string.\n",
      " |\n",
      " |  replace(self, old, new, count=-1, /)\n",
      " |      Return a copy with all occurrences of substring old replaced by new.\n",
      " |\n",
      " |        count\n",
      " |          Maximum number of occurrences to replace.\n",
      " |          -1 (the default value) means replace all occurrences.\n",
      " |\n",
      " |      If the optional argument count is given, only the first count occurrences are\n",
      " |      replaced.\n",
      " |\n",
      " |  rfind(...)\n",
      " |      S.rfind(sub[, start[, end]]) -> int\n",
      " |\n",
      " |      Return the highest index in S where substring sub is found,\n",
      " |      such that sub is contained within S[start:end].  Optional\n",
      " |      arguments start and end are interpreted as in slice notation.\n",
      " |\n",
      " |      Return -1 on failure.\n",
      " |\n",
      " |  rindex(...)\n",
      " |      S.rindex(sub[, start[, end]]) -> int\n",
      " |\n",
      " |      Return the highest index in S where substring sub is found,\n",
      " |      such that sub is contained within S[start:end].  Optional\n",
      " |      arguments start and end are interpreted as in slice notation.\n",
      " |\n",
      " |      Raises ValueError when the substring is not found.\n",
      " |\n",
      " |  rjust(self, width, fillchar=' ', /)\n",
      " |      Return a right-justified string of length width.\n",
      " |\n",
      " |      Padding is done using the specified fill character (default is a space).\n",
      " |\n",
      " |  rpartition(self, sep, /)\n",
      " |      Partition the string into three parts using the given separator.\n",
      " |\n",
      " |      This will search for the separator in the string, starting at the end. If\n",
      " |      the separator is found, returns a 3-tuple containing the part before the\n",
      " |      separator, the separator itself, and the part after it.\n",
      " |\n",
      " |      If the separator is not found, returns a 3-tuple containing two empty strings\n",
      " |      and the original string.\n",
      " |\n",
      " |  rsplit(self, /, sep=None, maxsplit=-1)\n",
      " |      Return a list of the substrings in the string, using sep as the separator string.\n",
      " |\n",
      " |        sep\n",
      " |          The separator used to split the string.\n",
      " |\n",
      " |          When set to None (the default value), will split on any whitespace\n",
      " |          character (including \\n \\r \\t \\f and spaces) and will discard\n",
      " |          empty strings from the result.\n",
      " |        maxsplit\n",
      " |          Maximum number of splits.\n",
      " |          -1 (the default value) means no limit.\n",
      " |\n",
      " |      Splitting starts at the end of the string and works to the front.\n",
      " |\n",
      " |  rstrip(self, chars=None, /)\n",
      " |      Return a copy of the string with trailing whitespace removed.\n",
      " |\n",
      " |      If chars is given and not None, remove characters in chars instead.\n",
      " |\n",
      " |  split(self, /, sep=None, maxsplit=-1)\n",
      " |      Return a list of the substrings in the string, using sep as the separator string.\n",
      " |\n",
      " |        sep\n",
      " |          The separator used to split the string.\n",
      " |\n",
      " |          When set to None (the default value), will split on any whitespace\n",
      " |          character (including \\n \\r \\t \\f and spaces) and will discard\n",
      " |          empty strings from the result.\n",
      " |        maxsplit\n",
      " |          Maximum number of splits.\n",
      " |          -1 (the default value) means no limit.\n",
      " |\n",
      " |      Splitting starts at the front of the string and works to the end.\n",
      " |\n",
      " |      Note, str.split() is mainly useful for data that has been intentionally\n",
      " |      delimited.  With natural text that includes punctuation, consider using\n",
      " |      the regular expression module.\n",
      " |\n",
      " |  splitlines(self, /, keepends=False)\n",
      " |      Return a list of the lines in the string, breaking at line boundaries.\n",
      " |\n",
      " |      Line breaks are not included in the resulting list unless keepends is given and\n",
      " |      true.\n",
      " |\n",
      " |  startswith(...)\n",
      " |      S.startswith(prefix[, start[, end]]) -> bool\n",
      " |\n",
      " |      Return True if S starts with the specified prefix, False otherwise.\n",
      " |      With optional start, test S beginning at that position.\n",
      " |      With optional end, stop comparing S at that position.\n",
      " |      prefix can also be a tuple of strings to try.\n",
      " |\n",
      " |  strip(self, chars=None, /)\n",
      " |      Return a copy of the string with leading and trailing whitespace removed.\n",
      " |\n",
      " |      If chars is given and not None, remove characters in chars instead.\n",
      " |\n",
      " |  swapcase(self, /)\n",
      " |      Convert uppercase characters to lowercase and lowercase characters to uppercase.\n",
      " |\n",
      " |  title(self, /)\n",
      " |      Return a version of the string where each word is titlecased.\n",
      " |\n",
      " |      More specifically, words start with uppercased characters and all remaining\n",
      " |      cased characters have lower case.\n",
      " |\n",
      " |  translate(self, table, /)\n",
      " |      Replace each character in the string using the given translation table.\n",
      " |\n",
      " |        table\n",
      " |          Translation table, which must be a mapping of Unicode ordinals to\n",
      " |          Unicode ordinals, strings, or None.\n",
      " |\n",
      " |      The table must implement lookup/indexing via __getitem__, for instance a\n",
      " |      dictionary or list.  If this operation raises LookupError, the character is\n",
      " |      left untouched.  Characters mapped to None are deleted.\n",
      " |\n",
      " |  upper(self, /)\n",
      " |      Return a copy of the string converted to uppercase.\n",
      " |\n",
      " |  zfill(self, width, /)\n",
      " |      Pad a numeric string with zeros on the left, to fill a field of the given width.\n",
      " |\n",
      " |      The string is never truncated.\n",
      " |\n",
      " |  ----------------------------------------------------------------------\n",
      " |  Static methods defined here:\n",
      " |\n",
      " |  __new__(*args, **kwargs)\n",
      " |      Create and return a new object.  See help(type) for accurate signature.\n",
      " |\n",
      " |  maketrans(...)\n",
      " |      Return a translation table usable for str.translate().\n",
      " |\n",
      " |      If there is only one argument, it must be a dictionary mapping Unicode\n",
      " |      ordinals (integers) or characters to Unicode ordinals, strings or None.\n",
      " |      Character keys will be then converted to ordinals.\n",
      " |      If there are two arguments, they must be strings of equal length, and\n",
      " |      in the resulting dictionary, each character in x will be mapped to the\n",
      " |      character at the same position in y. If there is a third argument, it\n",
      " |      must be a string, whose characters will be mapped to None in the result.\n",
      "\n"
     ]
    }
   ],
   "source": [
    "help(str)"
   ]
  },
  {
   "cell_type": "code",
   "execution_count": null,
   "id": "76a837f7",
   "metadata": {},
   "outputs": [
    {
     "name": "stdout",
     "output_type": "stream",
     "text": [
      "Username contains Spaces! No Spaces Allowed!\n"
     ]
    },
    {
     "ename": "",
     "evalue": "",
     "output_type": "error",
     "traceback": [
      "\u001b[1;31mThe Kernel crashed while executing code in the current cell or a previous cell. \n",
      "\u001b[1;31mPlease review the code in the cell(s) to identify a possible cause of the failure. \n",
      "\u001b[1;31mClick <a href='https://aka.ms/vscodeJupyterKernelCrash'>here</a> for more info. \n",
      "\u001b[1;31mView Jupyter <a href='command:jupyter.viewOutput'>log</a> for further details."
     ]
    }
   ],
   "source": [
    "# Validate user input exercise \n",
    "# 1st username is no more than 12 characters \n",
    "# second username must not contain spaces \n",
    "# 3rd username must not contain digits\n",
    "\n",
    "username=input('Enter your username')\n",
    "\n",
    "if len(username)>12:\n",
    "    print(\"Too Long! Enter up to 12 characters!\")\n",
    "elif username.find(\" \")!=-1:\n",
    "    print(\"Username contains Spaces! No Spaces Allowed!\")\n",
    "# elif not username.isalpha():\n",
    "#     print(\"Username Must not Contain Digits!\")\n",
    "elif any(c.isdigit() for c in username):\n",
    "    print(\"Username Must not Contain Digits!\")"
   ]
  },
  {
   "cell_type": "code",
   "execution_count": 77,
   "id": "5e65b6d8",
   "metadata": {},
   "outputs": [
    {
     "name": "stdout",
     "output_type": "stream",
     "text": [
      "5\n",
      "-567\n",
      "-5678-9012-3456\n",
      "123\n",
      "6\n",
      "456\n",
      "1593\n",
      "XXXX-XXXX-XXXX-3456\n"
     ]
    }
   ],
   "source": [
    "# Indexing\n",
    "# Accessing elements of a sequence using [] (indexing operators)\n",
    "# [start; end; step]\n",
    "\n",
    "credit_number = \"1234-5678-9012-3456\"\n",
    "\n",
    "print(credit_number[5])\n",
    "print(credit_number[4:8])\n",
    "print(credit_number[4:])\n",
    "print(credit_number[:3])\n",
    "print(credit_number[-1])\n",
    "print(credit_number[-3:])\n",
    "print(credit_number[::5])\n",
    "\n",
    "last_Digits = credit_number[-4:]\n",
    "\n",
    "print(f\"XXXX-XXXX-XXXX-{last_Digits}\")\n"
   ]
  },
  {
   "cell_type": "markdown",
   "id": "337ad8d2",
   "metadata": {},
   "source": [
    "# format specifiers = {value:flags} format a value based on what # flags are inserted\n",
    "\n",
    ".(number)f = round to that many decimal places (fixed point) \n",
    "\n",
    ":(number) = allocate that many spaces\n",
    "\n",
    ":03 = allocate and zero pad that many spaces\n",
    "\n",
    ":< = left justify\n",
    "\n",
    ":> = right justify\n",
    "\n",
    ":^ = center align\n",
    "\n",
    ":+ = use a plus sign to indicate positive value\n",
    "\n",
    ":= = place sign to leftmost position\n",
    "\n",
    ": = insert a space before positive numbers\n",
    "\n",
    ":, = comma separator\n",
    "\n"
   ]
  },
  {
   "cell_type": "code",
   "execution_count": 15,
   "id": "de27378e",
   "metadata": {},
   "outputs": [
    {
     "name": "stdout",
     "output_type": "stream",
     "text": [
      "Price 1 is $+300,000,000.14\n",
      "Price 2 is $-98,700.65\n",
      "Price 3 is $12,000.34\n"
     ]
    }
   ],
   "source": [
    "price1 = 300000000.14159\n",
    "price2 = -98700.65\n",
    "price3 = 12000.34\n",
    "\n",
    "print(f'Price 1 is ${price1:+,.2f}')\n",
    "print(f'Price 2 is ${price2:,}')\n",
    "print(f'Price 3 is ${price3:,}')"
   ]
  },
  {
   "cell_type": "code",
   "execution_count": 17,
   "id": "47aafc18",
   "metadata": {},
   "outputs": [
    {
     "name": "stdout",
     "output_type": "stream",
     "text": [
      "You did not enter your name!\n",
      "You did not enter your name!\n",
      "You did not enter your name!\n",
      "Hello askdasd\n"
     ]
    }
   ],
   "source": [
    "# while loops\n",
    "\n",
    "name = input(\"Enter your name\")\n",
    "\n",
    "while name==\"\":\n",
    "    print(\"You did not enter your name!\")\n",
    "    name = input(\"Enter your name\")\n",
    "print(f'Hello {name}')"
   ]
  },
  {
   "cell_type": "code",
   "execution_count": 18,
   "id": "1108fd5b",
   "metadata": {},
   "outputs": [
    {
     "name": "stdout",
     "output_type": "stream",
     "text": [
      "Your favourite food is pumpkin\n",
      "Your favourite food is tomato\n",
      "Your favourite food is onion\n",
      "Your favourite food is chicken\n",
      "app closed\n"
     ]
    }
   ],
   "source": [
    "food = input('Enter your favourite food (q to quit).')\n",
    "\n",
    "while food!='q':\n",
    "    print(f'Your favourite food is {food}')\n",
    "    food = input('Enter your favourite food (q to quit).')\n",
    "print('app closed')"
   ]
  },
  {
   "cell_type": "code",
   "execution_count": 21,
   "id": "05fefa4c",
   "metadata": {},
   "outputs": [
    {
     "name": "stdout",
     "output_type": "stream",
     "text": [
      "Number is not between 1 to 10\n",
      "Number is not between 1 to 10\n",
      "Number is not between 1 to 10\n",
      "Number is not between 1 to 10\n",
      "Number is not between 1 to 10\n",
      "Your entered number is 5\n"
     ]
    }
   ],
   "source": [
    "num = int(input('Enter a number between 1 to 10'))\n",
    "\n",
    "while num < 1 or num > 10:\n",
    "    print('Number is not between 1 to 10')\n",
    "    num = int(input('Enter a number between 1 to 10'))\n",
    "print(f'Your entered number is {num}')\n"
   ]
  },
  {
   "cell_type": "code",
   "execution_count": 24,
   "id": "ca37dd4c",
   "metadata": {},
   "outputs": [
    {
     "name": "stdout",
     "output_type": "stream",
     "text": [
      "The total amount returned is 572.45\n"
     ]
    }
   ],
   "source": [
    "# Compound interest Calculator\n",
    "\n",
    "principal = float(input('Enter your Principal'))\n",
    "rate_of_interest = float(input('Enter your rate_of_interest'))\n",
    "time = float(input('Enter the time'))\n",
    "\n",
    "total_amt = principal*pow((1+rate_of_interest/100),time)\n",
    "\n",
    "print(f'The total amount returned is {total_amt:.2f}')"
   ]
  },
  {
   "cell_type": "markdown",
   "id": "92dc594f",
   "metadata": {},
   "source": [
    "# For Loops"
   ]
  },
  {
   "cell_type": "code",
   "execution_count": 27,
   "id": "7aa2ecd5",
   "metadata": {},
   "outputs": [
    {
     "name": "stdout",
     "output_type": "stream",
     "text": [
      "1\n",
      "4\n",
      "7\n",
      "10\n",
      "Happy New Year!\n"
     ]
    }
   ],
   "source": [
    "# for x in reversed(range(1,11)):\n",
    "for x in range(1,11,3):    \n",
    "    print(x)\n",
    "\n",
    "print(\"Happy New Year!\")"
   ]
  },
  {
   "cell_type": "markdown",
   "id": "f286c427",
   "metadata": {},
   "source": [
    "countdown timer in python"
   ]
  },
  {
   "cell_type": "code",
   "execution_count": 37,
   "id": "df4af50f",
   "metadata": {},
   "outputs": [
    {
     "name": "stdout",
     "output_type": "stream",
     "text": [
      "The Time's Up!\n"
     ]
    }
   ],
   "source": [
    "import time\n",
    "\n",
    "# time.sleep(3)\n",
    "\n",
    "# print(\"Time's Up!\")\n",
    "\n",
    "timer = int(input(\"Timer for how many seconds?\"))\n",
    "\n",
    "for x in reversed(range(1, timer+1)):\n",
    "    \n",
    "    seconds = x % 60\n",
    "    minutes = (x//60) % 60\n",
    "    hours = x // 3600\n",
    "    print(f'{hours:02}:{minutes:02}:{seconds:02}', end='\\r')\n",
    "    time.sleep(1)\n",
    "\n",
    "print(\"The Time's Up!\")"
   ]
  },
  {
   "cell_type": "markdown",
   "id": "1d7ecdbc",
   "metadata": {},
   "source": [
    "# Nested Loops"
   ]
  },
  {
   "cell_type": "code",
   "execution_count": 38,
   "id": "195bc44f",
   "metadata": {},
   "outputs": [
    {
     "name": "stdout",
     "output_type": "stream",
     "text": [
      "123456789"
     ]
    }
   ],
   "source": [
    "for x in range(1,10):\n",
    "    print(x, end=\"\")"
   ]
  },
  {
   "cell_type": "markdown",
   "id": "e1db2fb6",
   "metadata": {},
   "source": [
    "| `end` value | Output example for numbers 1–3               |\n",
    "| ----------- | -------------------------------------------- |\n",
    "| `'\\n'`      | 1\\n2\\n3 (default, prints each on a new line) |\n",
    "| `' '`       | 1 2 3 (space-separated)                      |\n",
    "| `','`       | 1,2,3 (comma-separated)                      |\n",
    "| `'-'`       | 1-2-3                                        |\n",
    "| `''`        | 123 (no separator)                           |\n",
    "| `'\\t'`      | 1␉ 2␉ 3 (tab-separated)                      |\n",
    "| `'***'`     | 1***2***3                                    |\n"
   ]
  },
  {
   "cell_type": "code",
   "execution_count": 41,
   "id": "a1ddad2d",
   "metadata": {},
   "outputs": [
    {
     "name": "stdout",
     "output_type": "stream",
     "text": [
      "iiii\n",
      "iiii\n",
      "iiii\n"
     ]
    }
   ],
   "source": [
    "# Make a Rectangle of Symbols\n",
    "\n",
    "rows = int(input('Enter # of Rows'))\n",
    "columns = int(input('Enter # of Columns'))\n",
    "symbol = input('Enter the symbol')\n",
    "\n",
    "for r in range(rows):\n",
    "    for c in range(columns):\n",
    "        print(symbol, end=\"\")\n",
    "    print()"
   ]
  },
  {
   "cell_type": "code",
   "execution_count": null,
   "id": "14cb0083",
   "metadata": {},
   "outputs": [],
   "source": []
  }
 ],
 "metadata": {
  "kernelspec": {
   "display_name": "base",
   "language": "python",
   "name": "python3"
  },
  "language_info": {
   "codemirror_mode": {
    "name": "ipython",
    "version": 3
   },
   "file_extension": ".py",
   "mimetype": "text/x-python",
   "name": "python",
   "nbconvert_exporter": "python",
   "pygments_lexer": "ipython3",
   "version": "3.12.4"
  }
 },
 "nbformat": 4,
 "nbformat_minor": 5
}
