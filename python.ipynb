{
 "cells": [
  {
   "cell_type": "code",
   "execution_count": 5,
   "id": "f53fbbd9",
   "metadata": {},
   "outputs": [
    {
     "name": "stdout",
     "output_type": "stream",
     "text": [
      "<class 'bool'>\n"
     ]
    }
   ],
   "source": [
    "print(type(True))"
   ]
  },
  {
   "cell_type": "code",
   "execution_count": null,
   "id": "c4641eb3",
   "metadata": {},
   "outputs": [
    {
     "name": "stdout",
     "output_type": "stream",
     "text": [
      "<class 'float'>\n",
      "<class 'int'>\n"
     ]
    }
   ],
   "source": [
    "# typecasting\n",
    "\n",
    "gpa=3.2\n",
    "\n",
    "print(type(gpa))\n",
    "\n",
    "print(type(float(gpa)))"
   ]
  },
  {
   "cell_type": "code",
   "execution_count": null,
   "id": "334eef16",
   "metadata": {},
   "outputs": [
    {
     "name": "stdout",
     "output_type": "stream",
     "text": [
      "hello anshul, you are 23 years old\n"
     ]
    }
   ],
   "source": [
    "# input\n",
    "\n",
    "name=input(\"What is your name?: \")\n",
    "age=int(input('How old are you?'))\n",
    "print(f'hello {name}, you are {age} years old')"
   ]
  },
  {
   "cell_type": "code",
   "execution_count": 16,
   "id": "19dd2712",
   "metadata": {},
   "outputs": [
    {
     "name": "stdout",
     "output_type": "stream",
     "text": [
      "Area of Rectangle is 15.75 units squared\n"
     ]
    }
   ],
   "source": [
    "# Calc Area of Rectangle\n",
    "\n",
    "def areaOfRectangle(length,breadth):\n",
    "    return (length*breadth)\n",
    "\n",
    "l = float(input(\"Enter the length of Rectangle\"))\n",
    "b = float(input(\"Enter the breadth of Rectangle\"))\n",
    "\n",
    "print(f'Area of Rectangle is {areaOfRectangle(l,b)} units squared')"
   ]
  },
  {
   "cell_type": "code",
   "execution_count": 17,
   "id": "d5a03a4a",
   "metadata": {},
   "outputs": [
    {
     "name": "stdout",
     "output_type": "stream",
     "text": [
      "Today I went to a large zoo.\n",
      "I saw an Parrot\n",
      "Parrot was Ferocious and Worrying.\n",
      "I was thrilled!\n"
     ]
    }
   ],
   "source": [
    "\"\"\" Madlibs game\n",
    "word game where you create a story \n",
    "by filling in blanks with random words\n",
    "\"\"\"\n",
    "\n",
    "adjective1 = input('Enter an adjective')\n",
    "noun1 = input('Enter a noun')\n",
    "adjective2 = input('Enter another adjective')\n",
    "verb1 = input('Enter a verb ending with \\'ing\\'')\n",
    "adjective3 = input('Enter another adjective')\n",
    "\n",
    "print(f'Today I went to a {adjective1} zoo.')\n",
    "print(f'I saw an {noun1}')\n",
    "print(f'{noun1} was {adjective2} and {verb1}.')\n",
    "print(f'I was {adjective3}!')"
   ]
  },
  {
   "cell_type": "code",
   "execution_count": null,
   "id": "bd221be6",
   "metadata": {},
   "outputs": [
    {
     "name": "stdout",
     "output_type": "stream",
     "text": [
      "3.141592653589793\n",
      "2.718281828459045\n",
      "3.0166206257996713\n",
      "10\n",
      "9\n"
     ]
    }
   ],
   "source": [
    "import math\n",
    "\n",
    "x=9.1\n",
    "\n",
    "print(math.pi)\n",
    "print(math.e)\n",
    "print(math.sqrt(x))\n",
    "print(math.ceil(x)) \n",
    "print(math.floor(x))"
   ]
  },
  {
   "cell_type": "code",
   "execution_count": 22,
   "id": "d9835791",
   "metadata": {},
   "outputs": [
    {
     "name": "stdout",
     "output_type": "stream",
     "text": [
      "The exception can't multiply sequence by non-int of type 'str' surfaced!\n",
      "The Result is None\n"
     ]
    }
   ],
   "source": [
    "# Calculator\n",
    "\n",
    "num1 = (input('Enter first operand'))\n",
    "num2 = (input('Enter second operand'))\n",
    "\n",
    "op = int(input('Choose the operation:\\n1) Addition\\n2) Subtraction\\n3) Multiplication\\n4) Division'))\n",
    "result=None\n",
    "try:\n",
    "    if op==1:\n",
    "        result = num1+num2\n",
    "    elif op==2:\n",
    "        result = num1-num2\n",
    "    elif op==3:\n",
    "        result = num1*num2\n",
    "    elif op==4:\n",
    "        result = num1/num2\n",
    "    else:\n",
    "        print(\"Enter a valid operation from Menu!\")\n",
    "except Exception as e:\n",
    "    print(f'The exception {e} surfaced!')\n",
    "\n",
    "\n",
    "print(f'The Result is {result}')"
   ]
  },
  {
   "cell_type": "code",
   "execution_count": null,
   "id": "26145975",
   "metadata": {},
   "outputs": [],
   "source": []
  }
 ],
 "metadata": {
  "kernelspec": {
   "display_name": "base",
   "language": "python",
   "name": "python3"
  },
  "language_info": {
   "codemirror_mode": {
    "name": "ipython",
    "version": 3
   },
   "file_extension": ".py",
   "mimetype": "text/x-python",
   "name": "python",
   "nbconvert_exporter": "python",
   "pygments_lexer": "ipython3",
   "version": "3.12.4"
  }
 },
 "nbformat": 4,
 "nbformat_minor": 5
}
